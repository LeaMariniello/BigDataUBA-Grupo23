{
 "cells": [
  {
   "cell_type": "code",
   "execution_count": 11,
   "id": "e8205732",
   "metadata": {},
   "outputs": [
    {
     "name": "stdout",
     "output_type": "stream",
     "text": [
      "       Fecha  tipo_cambio_unificado\n",
      "0 1970-01-05                    3.5\n",
      "1 1970-01-06                    3.5\n",
      "2 1970-01-07                    3.5\n",
      "3 1970-01-08                    3.5\n",
      "4 1970-01-09                    3.5\n",
      "           Fecha  tipo_cambio_unificado\n",
      "20139 2025-02-24                1061.00\n",
      "20140 2025-02-25                1061.50\n",
      "20141 2025-02-26                1061.75\n",
      "20142 2025-02-27                1062.50\n",
      "20143 2025-02-28                1064.75\n"
     ]
    }
   ],
   "source": [
    "import pandas as pd\n",
    "\n",
    "# Leer archivo CSV descargado\n",
    "dolar_df = pd.read_csv(\"tipos-de-cambio-historicos.csv\")\n",
    "\n",
    "# Procesar la columna 'indice_tiempo' con el formato adecuado\n",
    "dolar_df['Fecha'] = pd.to_datetime(dolar_df['indice_tiempo'], format='%Y-%m-%d', errors='coerce')\n",
    "\n",
    "# Unificar los tipos de cambio en una sola columna, completando los valores faltantes de las columnas correspondientes.\n",
    "# Por ejemplo, unificamos usando 'dolar_tipo_unico' como la columna base y llenamos con los otros valores\n",
    "\n",
    "dolar_df['tipo_cambio_unificado'] = (\n",
    "    dolar_df['dolar_tipo_unico']\n",
    "    .combine_first(dolar_df['dolar_finan_esp_compra'])\n",
    "    .combine_first(dolar_df['dolar_finan_esp_venta'])\n",
    "    .combine_first(dolar_df['dolar_financiero_compra'])\n",
    "    .combine_first(dolar_df['dolar_financiero_venta'])\n",
    "    .combine_first(dolar_df['dolar_libre_compra'])\n",
    "    .combine_first(dolar_df['dolar_libre_venta'])\n",
    "    .combine_first(dolar_df['dolar_oficial_compra'])\n",
    "    .combine_first(dolar_df['dolar_oficial_venta'])\n",
    "    .combine_first(dolar_df['dolar_estadounidense'])\n",
    "    .combine_first(dolar_df['dolar_referencia_com_3500'])\n",
    ")\n",
    "\n",
    "# Mostrar el DataFrame con la nueva columna 'tipo_cambio_unificado'\n",
    "print(dolar_df[['Fecha', 'tipo_cambio_unificado']].head())\n",
    "\n",
    "print(dolar_df[['Fecha', 'tipo_cambio_unificado']].tail())"
   ]
  },
  {
   "cell_type": "code",
   "execution_count": 9,
   "id": "3a220b4f",
   "metadata": {},
   "outputs": [
    {
     "ename": "NameError",
     "evalue": "name 'df' is not defined",
     "output_type": "error",
     "traceback": [
      "\u001b[1;31m---------------------------------------------------------------------------\u001b[0m",
      "\u001b[1;31mNameError\u001b[0m                                 Traceback (most recent call last)",
      "Cell \u001b[1;32mIn[9], line 7\u001b[0m\n\u001b[0;32m      4\u001b[0m merval_df \u001b[38;5;241m=\u001b[39m pd\u001b[38;5;241m.\u001b[39mread_csv(\u001b[38;5;124m\"\u001b[39m\u001b[38;5;124mindices-bursatiles-argentina-indices-cotizaciones.csv\u001b[39m\u001b[38;5;124m\"\u001b[39m, delimiter\u001b[38;5;241m=\u001b[39m\u001b[38;5;124m'\u001b[39m\u001b[38;5;124m,\u001b[39m\u001b[38;5;124m'\u001b[39m)\n\u001b[0;32m      6\u001b[0m \u001b[38;5;66;03m# Verificar si sólo hay una columna y está todo junto\u001b[39;00m\n\u001b[1;32m----> 7\u001b[0m \u001b[38;5;28;01mif\u001b[39;00m df\u001b[38;5;241m.\u001b[39mshape[\u001b[38;5;241m1\u001b[39m] \u001b[38;5;241m==\u001b[39m \u001b[38;5;241m1\u001b[39m \u001b[38;5;129;01mand\u001b[39;00m \u001b[38;5;124m\"\u001b[39m\u001b[38;5;124m,\u001b[39m\u001b[38;5;124m\"\u001b[39m \u001b[38;5;129;01min\u001b[39;00m df\u001b[38;5;241m.\u001b[39mcolumns[\u001b[38;5;241m0\u001b[39m]:\n\u001b[0;32m      8\u001b[0m     \u001b[38;5;28mprint\u001b[39m(\u001b[38;5;124m\"\u001b[39m\u001b[38;5;124mLas columnas están unidas. Procediendo a separarlas...\u001b[39m\u001b[38;5;124m\"\u001b[39m)\n\u001b[0;32m     10\u001b[0m     \u001b[38;5;66;03m# Leer el archivo de nuevo como texto plano\u001b[39;00m\n",
      "\u001b[1;31mNameError\u001b[0m: name 'df' is not defined"
     ]
    }
   ],
   "source": [
    "import pandas as pd\n",
    "\n",
    "# Leer el archivo de forma normal\n",
    "merval_df = pd.read_csv(\"indices-bursatiles-argentina-indices-cotizaciones.csv\", delimiter=',')\n",
    "\n",
    "# Verificar si sólo hay una columna y está todo junto\n",
    "if df.shape[1] == 1 and \",\" in df.columns[0]:\n",
    "    print(\"Las columnas están unidas. Procediendo a separarlas...\")\n",
    "\n",
    "    # Leer el archivo de nuevo como texto plano\n",
    "    df_raw = pd.read_csv(\"indices-bursatiles-argentina-indices-cotizaciones.csv\", header=None)\n",
    "\n",
    "    # Separar por comas\n",
    "    df_split = df_raw[0].str.split(\",\", expand=True)\n",
    "\n",
    "    # Tomar la primera fila como nombre de columnas\n",
    "    df_split.columns = df_split.iloc[0]  # Primera fila como header\n",
    "    df_split = df_split.drop(index=0).reset_index(drop=True)\n",
    "\n",
    "    # Mostrar los primeros datos para verificar\n",
    "    print(df_split.head())\n",
    "else:\n",
    "    print(\"Las columnas ya están bien.\")\n",
    "    print(df.head())\n",
    "\n",
    "\n",
    "print(df.tail(20))\n"
   ]
  },
  {
   "cell_type": "code",
   "execution_count": 12,
   "id": "a030457f",
   "metadata": {},
   "outputs": [
    {
     "name": "stdout",
     "output_type": "stream",
     "text": [
      "     indice_tiempo    bolsa_g    burcap    merval  merval_arg  merval_25\n",
      "3693    2014-11-14   456258.1  28483.29   9749.70     8751.50    9933.51\n",
      "5326    2019-05-05        NaN       NaN       NaN         NaN        NaN\n",
      "2664    2012-01-20   160356.3   9803.20   2867.59     2247.44    2934.91\n",
      "5951    2021-01-19  2142044.0       NaN  50516.59         NaN        NaN\n",
      "3421    2014-02-15        NaN       NaN       NaN         NaN        NaN\n",
      "4341    2016-08-23   677557.9  44399.62  15832.48    14642.85   16904.73\n",
      "5648    2020-03-22        NaN       NaN       NaN         NaN        NaN\n",
      "1089    2007-09-28   119864.2   7980.81   2187.97     1587.55    2195.05\n",
      "4587    2017-04-26   905891.3  57945.60  21027.67    20100.20   22759.13\n",
      "4633    2017-06-11        NaN       NaN       NaN         NaN        NaN\n"
     ]
    }
   ],
   "source": [
    "print(merval_df.sample(10))  # 10 filas aleatorias\n"
   ]
  },
  {
   "cell_type": "code",
   "execution_count": null,
   "id": "3d5e9c9c",
   "metadata": {},
   "outputs": [
    {
     "name": "stdout",
     "output_type": "stream",
     "text": [
      "     indice_tiempo     bolsa_g  burcap     merval  merval_arg  merval_25\n",
      "7117    2024-03-30  51706700.0     NaN  1213485.0         NaN        NaN\n",
      "7118    2024-03-31  51706700.0     NaN  1213485.0         NaN        NaN\n",
      "7119    2024-04-01  51706700.0     NaN  1213485.0         NaN        NaN\n",
      "7120    2024-04-02  51706700.0     NaN  1213485.0         NaN        NaN\n",
      "7121    2024-04-03  51773400.0     NaN  1212639.0         NaN        NaN\n",
      "7122    2024-04-04  50618240.0     NaN  1183127.0         NaN        NaN\n",
      "7123    2024-04-05  51934480.0     NaN  1214371.0         NaN        NaN\n",
      "7124    2024-04-06  51934480.0     NaN  1214371.0         NaN        NaN\n",
      "7125    2024-04-07  51934480.0     NaN  1214371.0         NaN        NaN\n",
      "7126    2024-04-08  52670390.0     NaN  1229638.0         NaN        NaN\n",
      "7127    2024-04-09  53532800.0     NaN  1253210.0         NaN        NaN\n",
      "7128    2024-04-10  52799820.0     NaN  1233950.0         NaN        NaN\n",
      "7129    2024-04-11  53848950.0     NaN  1259303.0         NaN        NaN\n",
      "7130    2024-04-12  53195700.0     NaN  1244524.0         NaN        NaN\n",
      "7131    2024-04-13  53195700.0     NaN  1244524.0         NaN        NaN\n",
      "7132    2024-04-14  53195700.0     NaN  1244524.0         NaN        NaN\n",
      "7133    2024-04-15  51191320.0     NaN  1197527.0         NaN        NaN\n",
      "7134    2024-04-16  51374480.0     NaN  1203238.0         NaN        NaN\n",
      "7135    2024-04-17  50151240.0     NaN  1172353.0         NaN        NaN\n",
      "7136    2024-04-18  50123440.0     NaN  1172830.0         NaN        NaN\n"
     ]
    }
   ],
   "source": [
    "print(merval_df.tail(20))\n"
   ]
  },
  {
   "cell_type": "code",
   "execution_count": null,
   "id": "9fe4c9fd",
   "metadata": {},
   "outputs": [
    {
     "name": "stdout",
     "output_type": "stream",
     "text": [
      "  indice_tiempo  dolar_tipo_unico  dolar_finan_esp_compra  \\\n",
      "0    1970-01-05               3.5                     NaN   \n",
      "1    1970-01-06               3.5                     NaN   \n",
      "2    1970-01-07               3.5                     NaN   \n",
      "3    1970-01-08               3.5                     NaN   \n",
      "4    1970-01-09               3.5                     NaN   \n",
      "\n",
      "   dolar_finan_esp_venta  dolar_financiero_compra  dolar_financiero_venta  \\\n",
      "0                    NaN                      NaN                     NaN   \n",
      "1                    NaN                      NaN                     NaN   \n",
      "2                    NaN                      NaN                     NaN   \n",
      "3                    NaN                      NaN                     NaN   \n",
      "4                    NaN                      NaN                     NaN   \n",
      "\n",
      "   dolar_libre_compra  dolar_libre_venta  dolar_oficial_compra  \\\n",
      "0                 NaN                NaN                   NaN   \n",
      "1                 NaN                NaN                   NaN   \n",
      "2                 NaN                NaN                   NaN   \n",
      "3                 NaN                NaN                   NaN   \n",
      "4                 NaN                NaN                   NaN   \n",
      "\n",
      "   dolar_oficial_venta  dolar_estadounidense  dolar_referencia_com_3500  \\\n",
      "0                  NaN                   NaN                        NaN   \n",
      "1                  NaN                   NaN                        NaN   \n",
      "2                  NaN                   NaN                        NaN   \n",
      "3                  NaN                   NaN                        NaN   \n",
      "4                  NaN                   NaN                        NaN   \n",
      "\n",
      "       Fecha  tipo_cambio_unificado  \n",
      "0 1970-01-05                    3.5  \n",
      "1 1970-01-06                    3.5  \n",
      "2 1970-01-07                    3.5  \n",
      "3 1970-01-08                    3.5  \n",
      "4 1970-01-09                    3.5  \n",
      "  indice_tiempo   bolsa_g   burcap   merval  merval_arg  merval_25      Fecha\n",
      "0    2004-10-04  51553.00  2881.26  1167.09     1085.43     1151.0 2004-10-04\n",
      "1    2004-10-05  50346.26  2830.79  1135.37     1054.10     1151.0 2004-10-05\n",
      "2    2004-10-06  50553.64  2852.15  1128.00     1046.48     1113.0 2004-10-06\n",
      "3    2004-10-07  50978.02  2868.16  1140.26     1059.00     1126.0 2004-10-07\n",
      "4    2004-10-08  50763.08  2853.87  1128.74     1048.06     1115.0 2004-10-08\n"
     ]
    }
   ],
   "source": [
    "# Si el DataFrame de tipo de cambio no tiene la columna 'Fecha' convertida\n",
    "dolar_df['Fecha'] = pd.to_datetime(dolar_df['indice_tiempo'], errors='coerce')\n",
    "\n",
    "# Si tu otro DataFrame (por ejemplo, 'df_bolsa') tiene la columna 'indice_tiempo', también la convertimos:\n",
    "merval_df['Fecha'] = pd.to_datetime(merval_df['indice_tiempo'], errors='coerce')\n",
    "\n",
    "# Verificamos que ambas fechas estén bien formateadas\n",
    "print(dolar_df.head())\n",
    "print(merval_df.head())"
   ]
  },
  {
   "cell_type": "code",
   "execution_count": null,
   "id": "5ced3433",
   "metadata": {},
   "outputs": [
    {
     "name": "stdout",
     "output_type": "stream",
     "text": [
      "           indice_tiempo  dolar_tipo_unico  dolar_finan_esp_compra  \\\n",
      "Fecha                                                                \n",
      "2004-10-04    2004-10-04               NaN                     NaN   \n",
      "2004-10-05    2004-10-05               NaN                     NaN   \n",
      "2004-10-06    2004-10-06               NaN                     NaN   \n",
      "2004-10-07    2004-10-07               NaN                     NaN   \n",
      "2004-10-08    2004-10-08               NaN                     NaN   \n",
      "\n",
      "            dolar_finan_esp_venta  dolar_financiero_compra  \\\n",
      "Fecha                                                        \n",
      "2004-10-04                    NaN                      NaN   \n",
      "2004-10-05                    NaN                      NaN   \n",
      "2004-10-06                    NaN                      NaN   \n",
      "2004-10-07                    NaN                      NaN   \n",
      "2004-10-08                    NaN                      NaN   \n",
      "\n",
      "            dolar_financiero_venta  dolar_libre_compra  dolar_libre_venta  \\\n",
      "Fecha                                                                       \n",
      "2004-10-04                     NaN                 NaN                NaN   \n",
      "2004-10-05                     NaN                 NaN                NaN   \n",
      "2004-10-06                     NaN                 NaN                NaN   \n",
      "2004-10-07                     NaN                 NaN                NaN   \n",
      "2004-10-08                     NaN                 NaN                NaN   \n",
      "\n",
      "            dolar_oficial_compra  dolar_oficial_venta  dolar_estadounidense  \\\n",
      "Fecha                                                                         \n",
      "2004-10-04                   NaN                  NaN                 2.968   \n",
      "2004-10-05                   NaN                  NaN                 2.974   \n",
      "2004-10-06                   NaN                  NaN                 2.971   \n",
      "2004-10-07                   NaN                  NaN                 2.974   \n",
      "2004-10-08                   NaN                  NaN                 2.968   \n",
      "\n",
      "            dolar_referencia_com_3500  tipo_cambio_unificado indice_tiempo  \\\n",
      "Fecha                                                                        \n",
      "2004-10-04                     2.9730                  2.968    2004-10-04   \n",
      "2004-10-05                     2.9698                  2.974    2004-10-05   \n",
      "2004-10-06                     2.9720                  2.971    2004-10-06   \n",
      "2004-10-07                     2.9743                  2.974    2004-10-07   \n",
      "2004-10-08                     2.9657                  2.968    2004-10-08   \n",
      "\n",
      "             bolsa_g   burcap   merval  merval_arg  merval_25  \n",
      "Fecha                                                          \n",
      "2004-10-04  51553.00  2881.26  1167.09     1085.43     1151.0  \n",
      "2004-10-05  50346.26  2830.79  1135.37     1054.10     1151.0  \n",
      "2004-10-06  50553.64  2852.15  1128.00     1046.48     1113.0  \n",
      "2004-10-07  50978.02  2868.16  1140.26     1059.00     1126.0  \n",
      "2004-10-08  50763.08  2853.87  1128.74     1048.06     1115.0  \n"
     ]
    }
   ],
   "source": [
    "# Asegúrate de que ambas columnas de fecha estén en formato datetime\n",
    "dolar_df['Fecha'] = pd.to_datetime(dolar_df['Fecha'])\n",
    "merval_df['Fecha'] = pd.to_datetime(merval_df['Fecha'])\n",
    "\n",
    "# Usamos pd.concat para unir los DataFrames por la columna de 'Fecha'\n",
    "df_combinado = pd.concat([dolar_df.set_index('Fecha'), merval_df.set_index('Fecha')], axis=1, join='inner')\n",
    "\n",
    "# Verificar el resultado\n",
    "print(df_combinado.head())\n"
   ]
  },
  {
   "cell_type": "code",
   "execution_count": null,
   "id": "41194b21",
   "metadata": {},
   "outputs": [
    {
     "name": "stdout",
     "output_type": "stream",
     "text": [
      "       Fecha  tipo_cambio_unificado   merval\n",
      "0 2004-10-04                  2.968  1167.09\n",
      "1 2004-10-05                  2.974  1135.37\n",
      "2 2004-10-06                  2.971  1128.00\n",
      "3 2004-10-07                  2.974  1140.26\n",
      "4 2004-10-08                  2.968  1128.74\n",
      "          Fecha  tipo_cambio_unificado     merval\n",
      "7132 2024-04-14               866.5001  1244524.0\n",
      "7133 2024-04-15               868.0001  1197527.0\n",
      "7134 2024-04-16               868.5001  1203238.0\n",
      "7135 2024-04-17               869.5001  1172353.0\n",
      "7136 2024-04-18               870.0001  1172830.0\n"
     ]
    }
   ],
   "source": [
    "df_combinado = df_combinado.reset_index()\n",
    "\n",
    "print(df_combinado[['Fecha', 'tipo_cambio_unificado', 'merval']].head())\n",
    "\n",
    "print(df_combinado[['Fecha', 'tipo_cambio_unificado', 'merval']].tail())\n"
   ]
  },
  {
   "cell_type": "code",
   "execution_count": null,
   "id": "368619eb",
   "metadata": {},
   "outputs": [
    {
     "name": "stdout",
     "output_type": "stream",
     "text": [
      "Index(['Fecha', 'indice_tiempo', 'dolar_tipo_unico', 'dolar_finan_esp_compra',\n",
      "       'dolar_finan_esp_venta', 'dolar_financiero_compra',\n",
      "       'dolar_financiero_venta', 'dolar_libre_compra', 'dolar_libre_venta',\n",
      "       'dolar_oficial_compra', 'dolar_oficial_venta', 'dolar_estadounidense',\n",
      "       'dolar_referencia_com_3500', 'tipo_cambio_unificado', 'indice_tiempo',\n",
      "       'bolsa_g', 'burcap', 'merval', 'merval_arg', 'merval_25'],\n",
      "      dtype='object')\n"
     ]
    }
   ],
   "source": [
    "print(df_combinado.columns)\n"
   ]
  },
  {
   "cell_type": "code",
   "execution_count": null,
   "id": "1d891285",
   "metadata": {},
   "outputs": [],
   "source": [
    "import pandas as pd\n",
    "import os\n",
    "\n",
    "# Ruta base donde están los archivos\n",
    "ruta_carpeta = \"D:/Mis documentos/Estudio/Lic en economia/2do Año/Big data & machine learning/Tps/TP Grupal\"\n",
    "\n",
    "# Lista con los nombres de los archivos a abrir\n",
    "archivos_a_abrir = [\"principales-tasas-interes-referencia-principales-economias-mundo-frecuencia-mensual.csv\", \"reservas-internacionales-pasivos-financieros-bcra.csv\", \"principales-tasas-interes.csv\"]\n",
    "\n",
    "# Crear la ruta completa para cada archivo\n",
    "rutas_completas = [os.path.join(ruta_carpeta, nombre) for nombre in archivos_a_abrir]\n",
    "\n",
    "# Leer y concatenar\n",
    "df_filtrado = pd.concat([pd.read_csv(ruta) for ruta in rutas_completas], ignore_index=True)\n"
   ]
  },
  {
   "cell_type": "code",
   "execution_count": null,
   "id": "e58d0252",
   "metadata": {},
   "outputs": [
    {
     "ename": "NameError",
     "evalue": "name 'df_combinado' is not defined",
     "output_type": "error",
     "traceback": [
      "\u001b[1;31m---------------------------------------------------------------------------\u001b[0m",
      "\u001b[1;31mNameError\u001b[0m                                 Traceback (most recent call last)",
      "Cell \u001b[1;32mIn[5], line 11\u001b[0m\n\u001b[0;32m      8\u001b[0m df_economico \u001b[38;5;241m=\u001b[39m df_filtrado[columnas_utiles]\u001b[38;5;241m.\u001b[39mcopy()\n\u001b[0;32m     10\u001b[0m df_economico[\u001b[38;5;124m'\u001b[39m\u001b[38;5;124mFecha\u001b[39m\u001b[38;5;124m'\u001b[39m] \u001b[38;5;241m=\u001b[39m pd\u001b[38;5;241m.\u001b[39mto_datetime(df_economico[\u001b[38;5;124m'\u001b[39m\u001b[38;5;124mindice_tiempo\u001b[39m\u001b[38;5;124m'\u001b[39m], errors\u001b[38;5;241m=\u001b[39m\u001b[38;5;124m'\u001b[39m\u001b[38;5;124mcoerce\u001b[39m\u001b[38;5;124m'\u001b[39m)\n\u001b[1;32m---> 11\u001b[0m df_final \u001b[38;5;241m=\u001b[39m pd\u001b[38;5;241m.\u001b[39mmerge(df_combinado, df_economico\u001b[38;5;241m.\u001b[39mdrop(columns\u001b[38;5;241m=\u001b[39m[\u001b[38;5;124m'\u001b[39m\u001b[38;5;124mindice_tiempo\u001b[39m\u001b[38;5;124m'\u001b[39m]), on\u001b[38;5;241m=\u001b[39m\u001b[38;5;124m'\u001b[39m\u001b[38;5;124mFecha\u001b[39m\u001b[38;5;124m'\u001b[39m, how\u001b[38;5;241m=\u001b[39m\u001b[38;5;124m'\u001b[39m\u001b[38;5;124minner\u001b[39m\u001b[38;5;124m'\u001b[39m)\n\u001b[0;32m     14\u001b[0m \u001b[38;5;28mprint\u001b[39m(df_final\u001b[38;5;241m.\u001b[39mcolumns)\n",
      "\u001b[1;31mNameError\u001b[0m: name 'df_combinado' is not defined"
     ]
    }
   ],
   "source": [
    "columnas_utiles = [\n",
    "    'indice_tiempo', 'reservas_internacionales_dolares',\n",
    "    'pasivos_monetarios', 'tipo_cambio_valuacion',\n",
    "    'tasas_interes_plazo_fijo_30_59_dias', 'tasas_interes_call',\n",
    "    'tasas_interes_badlar', 'instr_bcra_tasa_politica_monetaria', 'posicion_neta_pases', 'pos_neta_det_des_pases_pasivos'\n",
    "]\n",
    "\n",
    "df_economico = df_filtrado[columnas_utiles].copy()\n",
    "\n",
    "df_economico['Fecha'] = pd.to_datetime(df_economico['indice_tiempo'], errors='coerce')\n",
    "df_final = pd.merge(df_combinado, df_economico.drop(columns=['indice_tiempo']), on='Fecha', how='inner')\n",
    "\n",
    "\n",
    "print(df_final.columns)\n",
    "\n"
   ]
  }
 ],
 "metadata": {
  "kernelspec": {
   "display_name": "base",
   "language": "python",
   "name": "python3"
  },
  "language_info": {
   "codemirror_mode": {
    "name": "ipython",
    "version": 3
   },
   "file_extension": ".py",
   "mimetype": "text/x-python",
   "name": "python",
   "nbconvert_exporter": "python",
   "pygments_lexer": "ipython3",
   "version": "3.12.7"
  }
 },
 "nbformat": 4,
 "nbformat_minor": 5
}
